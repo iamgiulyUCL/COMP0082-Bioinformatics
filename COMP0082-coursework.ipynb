{
 "cells": [
  {
   "cell_type": "markdown",
   "metadata": {},
   "source": [
    "### COMP0082 Coursework V2.02\n",
    "##### Predicting the subcellular location of proteins\n",
    "\n",
    "**Goal** : develop a simple method for classifying eukaryotic protein sequences into the 5 categories \n",
    "* Cytosolic - i.e. within the cell itself, but not inside any organelles\n",
    "\n",
    "* Extracellular/Secreted - proteins which are transported out of a cell\n",
    "\n",
    "* Nuclear - proteins found/used within the cell's nucleus\n",
    "\n",
    "* Mitochondrial - proteins transported to the cell's mitochondria\n",
    "\n",
    "* Other - none of the above\n",
    "\n",
    "**Requirements** : \n",
    "* use any appropriate ML methods, free to use off-the-shelf machine learning methods or libraries, as long as you give enough information for someone to replicate your approach\n",
    "* Methods should be self-contained \n",
    "* No requests to external web services\n",
    "* **extra credit** will be given to being able to make the results from your method explainable, e.g. use ablaton test or integrated gradients for methods without explicit features\n",
    "* Predictions must be returned along with some measure of confidence or converted in ad hoc measure of confidence e.g. HIGH, MEDIUM, LOW\n",
    "* Must explain the basis of your confidence\n",
    "* Cross-validation studies should be carried out on the datasets. \n",
    "* Details on the selection of test and training sets must be given in the write-up\n",
    "* Appropriate measures of success must be given e.g. ACC, F1, MCC etc. \n",
    "* Results for the \"blind\" protein set must be included in the report.\n"
   ]
  },
  {
   "cell_type": "code",
   "execution_count": null,
   "metadata": {},
   "outputs": [],
   "source": [
    "pip install biopython"
   ]
  },
  {
   "cell_type": "code",
   "execution_count": null,
   "metadata": {},
   "outputs": [],
   "source": []
  }
 ],
 "metadata": {
  "kernelspec": {
   "display_name": "Python 3",
   "language": "python",
   "name": "python3"
  },
  "language_info": {
   "codemirror_mode": {
    "name": "ipython",
    "version": 3
   },
   "file_extension": ".py",
   "mimetype": "text/x-python",
   "name": "python",
   "nbconvert_exporter": "python",
   "pygments_lexer": "ipython3",
   "version": "3.10.11"
  }
 },
 "nbformat": 4,
 "nbformat_minor": 2
}
